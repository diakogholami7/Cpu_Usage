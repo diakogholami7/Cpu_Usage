{
  "nbformat": 4,
  "nbformat_minor": 0,
  "metadata": {
    "colab": {
      "provenance": []
    },
    "kernelspec": {
      "name": "python3",
      "display_name": "Python 3"
    },
    "language_info": {
      "name": "python"
    }
  },
  "cells": [
    {
      "cell_type": "code",
      "execution_count": 4,
      "metadata": {
        "colab": {
          "base_uri": "https://localhost:8080/",
          "height": 572
        },
        "id": "_LPwshYwoQYZ",
        "outputId": "ace916a2-0003-4220-962c-a35474e47772"
      },
      "outputs": [
        {
          "output_type": "stream",
          "name": "stdout",
          "text": [
            "درصد استفاده از هر هسته سی پی یو:\n",
            "هسته 0: 76.3%\n",
            "هسته 1: 76.1%\n",
            "کل درصد استفاده از سی پی یو: 76.2%\n",
            "یک عدد وارد کنید (یا برای خروج 'Exit' را وارد کنید): 2\n",
            "در حال محاسبه اعداد فیبوناچی تا 2...\n",
            "انجام شد.\n",
            "درصد استفاده از هر هسته سی پی یو:\n",
            "هسته 0: 3.7%\n",
            "هسته 1: 4.9%\n",
            "کل درصد استفاده از سی پی یو: 4.1%\n"
          ]
        },
        {
          "output_type": "error",
          "ename": "KeyboardInterrupt",
          "evalue": "ignored",
          "traceback": [
            "\u001b[0;31m---------------------------------------------------------------------------\u001b[0m",
            "\u001b[0;31mKeyboardInterrupt\u001b[0m                         Traceback (most recent call last)",
            "\u001b[0;32m<ipython-input-4-bcd25b27589c>\u001b[0m in \u001b[0;36m<cell line: 23>\u001b[0;34m()\u001b[0m\n\u001b[1;32m     28\u001b[0m             \u001b[0;31m# برای خروج Exit را وارد نمایید\u001b[0m\u001b[0;34m\u001b[0m\u001b[0;34m\u001b[0m\u001b[0m\n\u001b[1;32m     29\u001b[0m             \u001b[0;31m# در غیر این صورت، یک عدد برای افزایش بهره وری پردازنده با محاسبه فیبوناچی\u001b[0m\u001b[0;34m\u001b[0m\u001b[0;34m\u001b[0m\u001b[0m\n\u001b[0;32m---> 30\u001b[0;31m             \u001b[0muser_input\u001b[0m \u001b[0;34m=\u001b[0m \u001b[0minput\u001b[0m\u001b[0;34m(\u001b[0m\u001b[0;34m\"یک عدد وارد کنید (یا برای خروج 'Exit' را وارد کنید): \"\u001b[0m\u001b[0;34m)\u001b[0m\u001b[0;34m\u001b[0m\u001b[0;34m\u001b[0m\u001b[0m\n\u001b[0m\u001b[1;32m     31\u001b[0m             \u001b[0;32mif\u001b[0m \u001b[0muser_input\u001b[0m\u001b[0;34m.\u001b[0m\u001b[0mlower\u001b[0m\u001b[0;34m(\u001b[0m\u001b[0;34m)\u001b[0m \u001b[0;34m==\u001b[0m \u001b[0;34m'exit'\u001b[0m\u001b[0;34m:\u001b[0m\u001b[0;34m\u001b[0m\u001b[0;34m\u001b[0m\u001b[0m\n\u001b[1;32m     32\u001b[0m                 \u001b[0;32mbreak\u001b[0m\u001b[0;34m\u001b[0m\u001b[0;34m\u001b[0m\u001b[0m\n",
            "\u001b[0;32m/usr/local/lib/python3.10/dist-packages/ipykernel/kernelbase.py\u001b[0m in \u001b[0;36mraw_input\u001b[0;34m(self, prompt)\u001b[0m\n\u001b[1;32m    849\u001b[0m                 \u001b[0;34m\"raw_input was called, but this frontend does not support input requests.\"\u001b[0m\u001b[0;34m\u001b[0m\u001b[0;34m\u001b[0m\u001b[0m\n\u001b[1;32m    850\u001b[0m             )\n\u001b[0;32m--> 851\u001b[0;31m         return self._input_request(str(prompt),\n\u001b[0m\u001b[1;32m    852\u001b[0m             \u001b[0mself\u001b[0m\u001b[0;34m.\u001b[0m\u001b[0m_parent_ident\u001b[0m\u001b[0;34m,\u001b[0m\u001b[0;34m\u001b[0m\u001b[0;34m\u001b[0m\u001b[0m\n\u001b[1;32m    853\u001b[0m             \u001b[0mself\u001b[0m\u001b[0;34m.\u001b[0m\u001b[0m_parent_header\u001b[0m\u001b[0;34m,\u001b[0m\u001b[0;34m\u001b[0m\u001b[0;34m\u001b[0m\u001b[0m\n",
            "\u001b[0;32m/usr/local/lib/python3.10/dist-packages/ipykernel/kernelbase.py\u001b[0m in \u001b[0;36m_input_request\u001b[0;34m(self, prompt, ident, parent, password)\u001b[0m\n\u001b[1;32m    893\u001b[0m             \u001b[0;32mexcept\u001b[0m \u001b[0mKeyboardInterrupt\u001b[0m\u001b[0;34m:\u001b[0m\u001b[0;34m\u001b[0m\u001b[0;34m\u001b[0m\u001b[0m\n\u001b[1;32m    894\u001b[0m                 \u001b[0;31m# re-raise KeyboardInterrupt, to truncate traceback\u001b[0m\u001b[0;34m\u001b[0m\u001b[0;34m\u001b[0m\u001b[0m\n\u001b[0;32m--> 895\u001b[0;31m                 \u001b[0;32mraise\u001b[0m \u001b[0mKeyboardInterrupt\u001b[0m\u001b[0;34m(\u001b[0m\u001b[0;34m\"Interrupted by user\"\u001b[0m\u001b[0;34m)\u001b[0m \u001b[0;32mfrom\u001b[0m \u001b[0;32mNone\u001b[0m\u001b[0;34m\u001b[0m\u001b[0;34m\u001b[0m\u001b[0m\n\u001b[0m\u001b[1;32m    896\u001b[0m             \u001b[0;32mexcept\u001b[0m \u001b[0mException\u001b[0m \u001b[0;32mas\u001b[0m \u001b[0me\u001b[0m\u001b[0;34m:\u001b[0m\u001b[0;34m\u001b[0m\u001b[0;34m\u001b[0m\u001b[0m\n\u001b[1;32m    897\u001b[0m                 \u001b[0mself\u001b[0m\u001b[0;34m.\u001b[0m\u001b[0mlog\u001b[0m\u001b[0;34m.\u001b[0m\u001b[0mwarning\u001b[0m\u001b[0;34m(\u001b[0m\u001b[0;34m\"Invalid Message:\"\u001b[0m\u001b[0;34m,\u001b[0m \u001b[0mexc_info\u001b[0m\u001b[0;34m=\u001b[0m\u001b[0;32mTrue\u001b[0m\u001b[0;34m)\u001b[0m\u001b[0;34m\u001b[0m\u001b[0;34m\u001b[0m\u001b[0m\n",
            "\u001b[0;31mKeyboardInterrupt\u001b[0m: Interrupted by user"
          ]
        }
      ],
      "source": [
        "import psutil\n",
        "import time\n",
        "from multiprocessing import Pool, cpu_count\n",
        "import os\n",
        "\n",
        "\n",
        "def cpu_usage():\n",
        "    # نمایش درصد استفاده از هر هسته سی پی یو\n",
        "    print(\"درصد استفاده از هر هسته سی پی یو:\")\n",
        "    for i, percentage in enumerate(psutil.cpu_percent(percpu=True)):\n",
        "        print(f\"هسته {i}: {percentage}%\")\n",
        "    print(f\"کل درصد استفاده از سی پی یو: {psutil.cpu_percent()}%\")\n",
        "\n",
        "\n",
        "def busy_work(n):\n",
        "    # این تابع محاسباتی سنگین است که باعث افزایش استفاده از سی پی یو می شود\n",
        "    if n <= 1:\n",
        "        return n\n",
        "    else:\n",
        "        return busy_work(n-1) + busy_work(n-2)\n",
        "\n",
        "\n",
        "if __name__ == \"__main__\":\n",
        "    try:\n",
        "        while True:\n",
        "            cpu_usage()\n",
        "\n",
        "            # برای خروج Exit را وارد نمایید\n",
        "            # در غیر این صورت، یک عدد برای افزایش بهره وری پردازنده با محاسبه فیبوناچی\n",
        "            user_input = input(\"یک عدد وارد کنید (یا برای خروج 'Exit' را وارد کنید): \")\n",
        "            if user_input.lower() == 'exit':\n",
        "                break\n",
        "\n",
        "            n = int(user_input)\n",
        "            print(f\"در حال محاسبه اعداد فیبوناچی تا {n}...\")\n",
        "\n",
        "            with Pool(cpu_count()) as p:\n",
        "                p.map(busy_work, [n for _ in range(cpu_count())])\n",
        "\n",
        "            print(\"انجام شد.\")\n",
        "\n",
        "    except Exception as e:\n",
        "        print(f\"یک خطا رخ داد: {e}\")\n"
      ]
    },
    {
      "cell_type": "code",
      "source": [],
      "metadata": {
        "id": "9Zi3zTsioRyA"
      },
      "execution_count": null,
      "outputs": []
    }
  ]
}