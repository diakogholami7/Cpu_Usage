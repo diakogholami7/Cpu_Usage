{
  "nbformat": 4,
  "nbformat_minor": 0,
  "metadata": {
    "colab": {
      "provenance": []
    },
    "kernelspec": {
      "name": "python3",
      "display_name": "Python 3"
    },
    "language_info": {
      "name": "python"
    }
  },
  "cells": [
    {
      "cell_type": "code",
      "execution_count": 5,
      "metadata": {
        "colab": {
          "base_uri": "https://localhost:8080/"
        },
        "id": "_LPwshYwoQYZ",
        "outputId": "8eb08724-f6b4-4395-a769-7638356c37e1"
      },
      "outputs": [
        {
          "name": "stdout",
          "output_type": "stream",
          "text": [
            "درصد استفاده از هر هسته سی پی یو:\n",
            "هسته 0: 7.3%\n",
            "هسته 1: 12.3%\n",
            "کل درصد استفاده از سی پی یو: 9.8%\n",
            "یک عدد وارد کنید (یا برای خروج 'Exit' را وارد کنید): 3\n",
            "در حال محاسبه اعداد فیبوناچی تا 3...\n",
            "انجام شد.\n",
            "درصد استفاده از هر هسته سی پی یو:\n",
            "هسته 0: 20.0%\n",
            "هسته 1: 20.9%\n",
            "کل درصد استفاده از سی پی یو: 20.1%\n",
            "یک عدد وارد کنید (یا برای خروج 'Exit' را وارد کنید): 4\n",
            "در حال محاسبه اعداد فیبوناچی تا 4...\n",
            "انجام شد.\n",
            "درصد استفاده از هر هسته سی پی یو:\n",
            "هسته 0: 32.8%\n",
            "هسته 1: 63.4%\n",
            "کل درصد استفاده از سی پی یو: 48.0%\n",
            "یک عدد وارد کنید (یا برای خروج 'Exit' را وارد کنید): 6\n",
            "در حال محاسبه اعداد فیبوناچی تا 6...\n",
            "انجام شد.\n",
            "درصد استفاده از هر هسته سی پی یو:\n",
            "هسته 0: 5.3%\n",
            "هسته 1: 4.7%\n",
            "کل درصد استفاده از سی پی یو: 5.6%\n",
            "یک عدد وارد کنید (یا برای خروج 'Exit' را وارد کنید): 7\n",
            "در حال محاسبه اعداد فیبوناچی تا 7...\n",
            "انجام شد.\n",
            "درصد استفاده از هر هسته سی پی یو:\n",
            "هسته 0: 8.7%\n",
            "هسته 1: 8.2%\n",
            "کل درصد استفاده از سی پی یو: 8.2%\n",
            "یک عدد وارد کنید (یا برای خروج 'Exit' را وارد کنید): exit\n"
          ]
        }
      ],
      "source": [
        "import psutil\n",
        "import time\n",
        "from multiprocessing import Pool, cpu_count\n",
        "import os\n",
        "\n",
        "\n",
        "def cpu_usage():\n",
        "    # نمایش درصد استفاده از هر هسته سی پی یو\n",
        "    print(\"درصد استفاده از هر هسته سی پی یو:\")\n",
        "    for i, percentage in enumerate(psutil.cpu_percent(percpu=True)):\n",
        "        print(f\"هسته {i}: {percentage}%\")\n",
        "    print(f\"کل درصد استفاده از سی پی یو: {psutil.cpu_percent()}%\")\n",
        "\n",
        "\n",
        "def busy_work(n):\n",
        "    # این تابع محاسباتی سنگین است که باعث افزایش استفاده از سی پی یو می شود\n",
        "    if n <= 1:\n",
        "        return n\n",
        "    else:\n",
        "        return busy_work(n-1) + busy_work(n-2)\n",
        "\n",
        "\n",
        "if __name__ == \"__main__\":\n",
        "    try:\n",
        "        while True:\n",
        "            cpu_usage()\n",
        "\n",
        "            # برای خروج Exit را وارد نمایید\n",
        "            # در غیر این صورت، یک عدد برای افزایش بهره وری پردازنده با محاسبه فیبوناچی\n",
        "            user_input = input(\"یک عدد وارد کنید (یا برای خروج 'Exit' را وارد کنید): \")\n",
        "            if user_input.lower() == 'exit':\n",
        "                break\n",
        "\n",
        "            n = int(user_input)\n",
        "            print(f\"در حال محاسبه اعداد فیبوناچی تا {n}...\")\n",
        "\n",
        "            with Pool(cpu_count()) as p:\n",
        "                p.map(busy_work, [n for _ in range(cpu_count())])\n",
        "\n",
        "            print(\"انجام شد.\")\n",
        "\n",
        "    except Exception as e:\n",
        "        print(f\"یک خطا رخ داد: {e}\")\n"
      ]
    },
    {
      "cell_type": "code",
      "source": [],
      "metadata": {
        "id": "9Zi3zTsioRyA"
      },
      "execution_count": null,
      "outputs": []
    }
  ]
}